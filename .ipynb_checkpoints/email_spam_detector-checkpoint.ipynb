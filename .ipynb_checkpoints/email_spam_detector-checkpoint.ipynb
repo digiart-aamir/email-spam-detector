{
 "cells": [
  {
   "cell_type": "markdown",
   "id": "98e6a906",
   "metadata": {},
   "source": [
    "# Email Spam Detection Project using NLP (classification)"
   ]
  },
  {
   "cell_type": "markdown",
   "id": "c1308187",
   "metadata": {},
   "source": [
    "### Steps\n",
    "![](images/ML.png)"
   ]
  },
  {
   "cell_type": "markdown",
   "id": "67a48d40",
   "metadata": {},
   "source": [
    "### Tools\n",
    "<img src=\"images/tools.png\" width=\"70%\"/>"
   ]
  },
  {
   "cell_type": "markdown",
   "id": "17bed0c9",
   "metadata": {},
   "source": [
    "### Libraries"
   ]
  },
  {
   "cell_type": "markdown",
   "id": "703a541c",
   "metadata": {},
   "source": [
    "## 1 . Problem Definition\n",
    "\n",
    "**Objective**\n",
    "The objective of this project is to build a machine learning model that can accurately classify emails as either spam (unwanted, unsolicited messages) or ham (legitimate, non-spam messages). This involves leveraging Natural Language Processing (NLP) techniques to preprocess the text data and train a model to distinguish between spam and non-spam emails.\n",
    "\n",
    "**Motivation**\n",
    "Email spam detection is crucial for maintaining effective communication and protecting users from malicious content. Automated spam filters help in reducing the clutter in users' inboxes and prevent potential phishing attacks and scams.\n",
    "\n",
    "## 2. Data\n",
    "\n",
    "We will use a labeled dataset containing a collection of emails, each labeled as either 'spam' or 'ham'. The dataset typically includes two columns:\n",
    "\n",
    "* **text**: The content of the email.\n",
    "* **label**: The classification of the email as 'spam' or 'ham'.\n",
    "Example of the dataset structure:\n",
    "\n",
    "```text,label\n",
    "\"Hello, I saw your profile on LinkedIn and I would like to connect with you. Let's discuss business opportunities.\",ham\n",
    "\"Congratulations! You've won a 1,000 Walmart gift card. Click here to claim your prize now.\",spam\n",
    "\n"
   ]
  },
  {
   "cell_type": "code",
   "execution_count": null,
   "id": "98355319",
   "metadata": {},
   "outputs": [],
   "source": []
  }
 ],
 "metadata": {
  "kernelspec": {
   "display_name": "Python 3 (ipykernel)",
   "language": "python",
   "name": "python3"
  },
  "language_info": {
   "codemirror_mode": {
    "name": "ipython",
    "version": 3
   },
   "file_extension": ".py",
   "mimetype": "text/x-python",
   "name": "python",
   "nbconvert_exporter": "python",
   "pygments_lexer": "ipython3",
   "version": "3.11.3"
  }
 },
 "nbformat": 4,
 "nbformat_minor": 5
}
